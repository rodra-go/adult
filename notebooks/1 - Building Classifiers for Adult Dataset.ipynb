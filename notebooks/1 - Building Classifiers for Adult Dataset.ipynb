{
 "cells": [
  {
   "cell_type": "markdown",
   "id": "1a2a0ad1",
   "metadata": {},
   "source": [
    "**PCS5024 - Aprendizado Estatístico**\n",
    "\n",
    "**Name**: Rodrigo da Silva Cunha\n",
    "\n",
    "**NUSP**: 7631302"
   ]
  },
  {
   "cell_type": "markdown",
   "id": "8fedb8cb",
   "metadata": {},
   "source": [
    "# Building Classifiers for Adult Dataset\n",
    "\n",
    "In this notebook we'll explore the Adult Dataset, available for download at the [UCI Repository](https://archive.ics.uci.edu/ml/datasets/adult), and build a few classifiers to predict the class variable \">50k\", which defines if a person gets more than US\\$50k/year or not. \n",
    "\n",
    "The work reported in this notebook is part of a practice assignment in the discipline PCS5024 - Aprendizado Estatístico. This notebook uses the [Kedro](https://kedro.readthedocs.io/en/stable/) framework in orther to better organize data and project dependencies. "
   ]
  },
  {
   "cell_type": "code",
   "execution_count": 1,
   "id": "22c928f2",
   "metadata": {},
   "outputs": [
    {
     "name": "stdout",
     "output_type": "stream",
     "text": [
      "2021-05-12 11:11:42,221 - kedro.io.data_catalog - INFO - Loading data from `adult_train_data` (CSVDataSet)...\n",
      "2021-05-12 11:11:42,369 - kedro.io.data_catalog - INFO - Loading data from `adult_test_data` (CSVDataSet)...\n"
     ]
    },
    {
     "name": "stderr",
     "output_type": "stream",
     "text": [
      "/home/user01/.local/lib/python3.8/site-packages/ipykernel/ipkernel.py:283: DeprecationWarning: `should_run_async` will not call `transform_cell` automatically in the future. Please pass the result to `transformed_cell` argument and any exception that happen during thetransform in `preprocessing_exc_tuple` in IPython 7.17 and above.\n",
      "  and should_run_async(code)\n"
     ]
    }
   ],
   "source": [
    "train_data = catalog.load(\"adult_train_data\")\n",
    "test_data = catalog.load(\"adult_test_data\")"
   ]
  },
  {
   "cell_type": "code",
   "execution_count": null,
   "id": "fee17867",
   "metadata": {},
   "outputs": [],
   "source": []
  },
  {
   "cell_type": "code",
   "execution_count": null,
   "id": "62f5035a",
   "metadata": {},
   "outputs": [],
   "source": [
    "def prepare_adult_data(train_data, test_data):\n",
    "    \n",
    "    # Removendo 'missing data'\n",
    "    train_data = train_data.dropna()\n",
    "    \n",
    "    "
   ]
  }
 ],
 "metadata": {
  "kernelspec": {
   "display_name": "adult",
   "language": "python",
   "name": "python3"
  },
  "language_info": {
   "codemirror_mode": {
    "name": "ipython",
    "version": 3
   },
   "file_extension": ".py",
   "mimetype": "text/x-python",
   "name": "python",
   "nbconvert_exporter": "python",
   "pygments_lexer": "ipython3",
   "version": "3.8.5"
  }
 },
 "nbformat": 4,
 "nbformat_minor": 5
}
